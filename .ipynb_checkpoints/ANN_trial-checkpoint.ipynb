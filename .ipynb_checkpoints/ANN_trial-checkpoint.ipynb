{
 "cells": [
  {
   "cell_type": "code",
   "execution_count": 31,
   "metadata": {},
   "outputs": [],
   "source": [
    "import pandas as pd\n",
    "import tensorflow as tf\n",
    "import numpy as np"
   ]
  },
  {
   "cell_type": "code",
   "execution_count": 2,
   "metadata": {},
   "outputs": [
    {
     "data": {
      "text/plain": [
       "'1.2.4'"
      ]
     },
     "execution_count": 2,
     "metadata": {},
     "output_type": "execute_result"
    }
   ],
   "source": [
    "pd.__version__"
   ]
  },
  {
   "cell_type": "code",
   "execution_count": 3,
   "metadata": {},
   "outputs": [
    {
     "data": {
      "text/plain": [
       "'2.0.0'"
      ]
     },
     "execution_count": 3,
     "metadata": {},
     "output_type": "execute_result"
    }
   ],
   "source": [
    "tf.__version__"
   ]
  },
  {
   "cell_type": "code",
   "execution_count": 6,
   "metadata": {},
   "outputs": [],
   "source": [
    "data=pd.read_csv('Dataset/Folds5x2_pp.csv')"
   ]
  },
  {
   "cell_type": "code",
   "execution_count": 7,
   "metadata": {},
   "outputs": [
    {
     "data": {
      "text/html": [
       "<div>\n",
       "<style scoped>\n",
       "    .dataframe tbody tr th:only-of-type {\n",
       "        vertical-align: middle;\n",
       "    }\n",
       "\n",
       "    .dataframe tbody tr th {\n",
       "        vertical-align: top;\n",
       "    }\n",
       "\n",
       "    .dataframe thead th {\n",
       "        text-align: right;\n",
       "    }\n",
       "</style>\n",
       "<table border=\"1\" class=\"dataframe\">\n",
       "  <thead>\n",
       "    <tr style=\"text-align: right;\">\n",
       "      <th></th>\n",
       "      <th>AT</th>\n",
       "      <th>V</th>\n",
       "      <th>AP</th>\n",
       "      <th>RH</th>\n",
       "      <th>PE</th>\n",
       "    </tr>\n",
       "  </thead>\n",
       "  <tbody>\n",
       "    <tr>\n",
       "      <th>0</th>\n",
       "      <td>8.34</td>\n",
       "      <td>40.77</td>\n",
       "      <td>1010.84</td>\n",
       "      <td>90.01</td>\n",
       "      <td>480.48</td>\n",
       "    </tr>\n",
       "    <tr>\n",
       "      <th>1</th>\n",
       "      <td>23.64</td>\n",
       "      <td>58.49</td>\n",
       "      <td>1011.40</td>\n",
       "      <td>74.20</td>\n",
       "      <td>445.75</td>\n",
       "    </tr>\n",
       "    <tr>\n",
       "      <th>2</th>\n",
       "      <td>29.74</td>\n",
       "      <td>56.90</td>\n",
       "      <td>1007.15</td>\n",
       "      <td>41.91</td>\n",
       "      <td>438.76</td>\n",
       "    </tr>\n",
       "    <tr>\n",
       "      <th>3</th>\n",
       "      <td>19.07</td>\n",
       "      <td>49.69</td>\n",
       "      <td>1007.22</td>\n",
       "      <td>76.79</td>\n",
       "      <td>453.09</td>\n",
       "    </tr>\n",
       "    <tr>\n",
       "      <th>4</th>\n",
       "      <td>11.80</td>\n",
       "      <td>40.66</td>\n",
       "      <td>1017.13</td>\n",
       "      <td>97.20</td>\n",
       "      <td>464.43</td>\n",
       "    </tr>\n",
       "    <tr>\n",
       "      <th>...</th>\n",
       "      <td>...</td>\n",
       "      <td>...</td>\n",
       "      <td>...</td>\n",
       "      <td>...</td>\n",
       "      <td>...</td>\n",
       "    </tr>\n",
       "    <tr>\n",
       "      <th>9563</th>\n",
       "      <td>15.12</td>\n",
       "      <td>48.92</td>\n",
       "      <td>1011.80</td>\n",
       "      <td>72.93</td>\n",
       "      <td>462.59</td>\n",
       "    </tr>\n",
       "    <tr>\n",
       "      <th>9564</th>\n",
       "      <td>33.41</td>\n",
       "      <td>77.95</td>\n",
       "      <td>1010.30</td>\n",
       "      <td>59.72</td>\n",
       "      <td>432.90</td>\n",
       "    </tr>\n",
       "    <tr>\n",
       "      <th>9565</th>\n",
       "      <td>15.99</td>\n",
       "      <td>43.34</td>\n",
       "      <td>1014.20</td>\n",
       "      <td>78.66</td>\n",
       "      <td>465.96</td>\n",
       "    </tr>\n",
       "    <tr>\n",
       "      <th>9566</th>\n",
       "      <td>17.65</td>\n",
       "      <td>59.87</td>\n",
       "      <td>1018.58</td>\n",
       "      <td>94.65</td>\n",
       "      <td>450.93</td>\n",
       "    </tr>\n",
       "    <tr>\n",
       "      <th>9567</th>\n",
       "      <td>23.68</td>\n",
       "      <td>51.30</td>\n",
       "      <td>1011.86</td>\n",
       "      <td>71.24</td>\n",
       "      <td>451.67</td>\n",
       "    </tr>\n",
       "  </tbody>\n",
       "</table>\n",
       "<p>9568 rows × 5 columns</p>\n",
       "</div>"
      ],
      "text/plain": [
       "         AT      V       AP     RH      PE\n",
       "0      8.34  40.77  1010.84  90.01  480.48\n",
       "1     23.64  58.49  1011.40  74.20  445.75\n",
       "2     29.74  56.90  1007.15  41.91  438.76\n",
       "3     19.07  49.69  1007.22  76.79  453.09\n",
       "4     11.80  40.66  1017.13  97.20  464.43\n",
       "...     ...    ...      ...    ...     ...\n",
       "9563  15.12  48.92  1011.80  72.93  462.59\n",
       "9564  33.41  77.95  1010.30  59.72  432.90\n",
       "9565  15.99  43.34  1014.20  78.66  465.96\n",
       "9566  17.65  59.87  1018.58  94.65  450.93\n",
       "9567  23.68  51.30  1011.86  71.24  451.67\n",
       "\n",
       "[9568 rows x 5 columns]"
      ]
     },
     "execution_count": 7,
     "metadata": {},
     "output_type": "execute_result"
    }
   ],
   "source": [
    "data"
   ]
  },
  {
   "cell_type": "code",
   "execution_count": 21,
   "metadata": {},
   "outputs": [],
   "source": [
    "X=data.iloc[:,:-1].values\n",
    "y=data.iloc[:,-1].values"
   ]
  },
  {
   "cell_type": "code",
   "execution_count": 22,
   "metadata": {},
   "outputs": [],
   "source": [
    "from sklearn.model_selection import train_test_split\n",
    "X_train,X_test,y_train,y_test = train_test_split(X,y,test_size=0.2,random_state=0)"
   ]
  },
  {
   "cell_type": "markdown",
   "metadata": {},
   "source": [
    "## Initializing layers"
   ]
  },
  {
   "cell_type": "code",
   "execution_count": 23,
   "metadata": {},
   "outputs": [],
   "source": [
    "ann=tf.keras.models.Sequential() #Sequence of layers"
   ]
  },
  {
   "cell_type": "code",
   "execution_count": 24,
   "metadata": {},
   "outputs": [],
   "source": [
    "ann.add(tf.keras.layers.Dense(units=6,activation='relu'))\n",
    "ann.add(tf.keras.layers.Dense(units=6,activation='relu'))"
   ]
  },
  {
   "cell_type": "code",
   "execution_count": 25,
   "metadata": {},
   "outputs": [],
   "source": [
    "ann.add(tf.keras.layers.Dense(units=1))"
   ]
  },
  {
   "cell_type": "markdown",
   "metadata": {},
   "source": [
    "## Building the ANN"
   ]
  },
  {
   "cell_type": "markdown",
   "metadata": {},
   "source": [
    "### Compiling the ANN"
   ]
  },
  {
   "cell_type": "code",
   "execution_count": 26,
   "metadata": {},
   "outputs": [],
   "source": [
    "#Stochastic gradient descent will be applied to the errors during the back propagation"
   ]
  },
  {
   "cell_type": "code",
   "execution_count": 27,
   "metadata": {},
   "outputs": [],
   "source": [
    "ann.compile(optimizer='adam',loss='mean_squared_error')"
   ]
  },
  {
   "cell_type": "markdown",
   "metadata": {},
   "source": [
    "### Training the ANN"
   ]
  },
  {
   "cell_type": "code",
   "execution_count": 28,
   "metadata": {},
   "outputs": [
    {
     "name": "stdout",
     "output_type": "stream",
     "text": [
      "Train on 7654 samples\n",
      "Epoch 1/100\n",
      "7654/7654 [==============================] - 1s 92us/sample - loss: 4642.2398\n",
      "Epoch 2/100\n",
      "7654/7654 [==============================] - 0s 25us/sample - loss: 249.3954\n",
      "Epoch 3/100\n",
      "7654/7654 [==============================] - 0s 25us/sample - loss: 232.7610\n",
      "Epoch 4/100\n",
      "7654/7654 [==============================] - 0s 25us/sample - loss: 211.2214\n",
      "Epoch 5/100\n",
      "7654/7654 [==============================] - 0s 25us/sample - loss: 184.3432\n",
      "Epoch 6/100\n",
      "7654/7654 [==============================] - 0s 28us/sample - loss: 151.0157\n",
      "Epoch 7/100\n",
      "7654/7654 [==============================] - 0s 26us/sample - loss: 114.3216\n",
      "Epoch 8/100\n",
      "7654/7654 [==============================] - 0s 26us/sample - loss: 78.8002\n",
      "Epoch 9/100\n",
      "7654/7654 [==============================] - 0s 29us/sample - loss: 52.3149\n",
      "Epoch 10/100\n",
      "7654/7654 [==============================] - 0s 28us/sample - loss: 38.2575\n",
      "Epoch 11/100\n",
      "7654/7654 [==============================] - 0s 25us/sample - loss: 32.9307\n",
      "Epoch 12/100\n",
      "7654/7654 [==============================] - 0s 25us/sample - loss: 31.3750\n",
      "Epoch 13/100\n",
      "7654/7654 [==============================] - 0s 25us/sample - loss: 30.8657\n",
      "Epoch 14/100\n",
      "7654/7654 [==============================] - 0s 26us/sample - loss: 30.3789\n",
      "Epoch 15/100\n",
      "7654/7654 [==============================] - 0s 26us/sample - loss: 29.9034\n",
      "Epoch 16/100\n",
      "7654/7654 [==============================] - 0s 27us/sample - loss: 29.5072\n",
      "Epoch 17/100\n",
      "7654/7654 [==============================] - 0s 28us/sample - loss: 29.1349\n",
      "Epoch 18/100\n",
      "7654/7654 [==============================] - 0s 26us/sample - loss: 28.4293\n",
      "Epoch 19/100\n",
      "7654/7654 [==============================] - 0s 26us/sample - loss: 28.2178\n",
      "Epoch 20/100\n",
      "7654/7654 [==============================] - 0s 26us/sample - loss: 27.9589\n",
      "Epoch 21/100\n",
      "7654/7654 [==============================] - 0s 26us/sample - loss: 27.9277\n",
      "Epoch 22/100\n",
      "7654/7654 [==============================] - 0s 27us/sample - loss: 27.9216\n",
      "Epoch 23/100\n",
      "7654/7654 [==============================] - 0s 26us/sample - loss: 27.2745\n",
      "Epoch 24/100\n",
      "7654/7654 [==============================] - 0s 26us/sample - loss: 27.7794\n",
      "Epoch 25/100\n",
      "7654/7654 [==============================] - 0s 26us/sample - loss: 27.1434\n",
      "Epoch 26/100\n",
      "7654/7654 [==============================] - 0s 26us/sample - loss: 27.6351\n",
      "Epoch 27/100\n",
      "7654/7654 [==============================] - 0s 26us/sample - loss: 27.1010\n",
      "Epoch 28/100\n",
      "7654/7654 [==============================] - 0s 26us/sample - loss: 26.8939\n",
      "Epoch 29/100\n",
      "7654/7654 [==============================] - 0s 25us/sample - loss: 26.8774\n",
      "Epoch 30/100\n",
      "7654/7654 [==============================] - 0s 25us/sample - loss: 26.8965\n",
      "Epoch 31/100\n",
      "7654/7654 [==============================] - 0s 26us/sample - loss: 27.7232\n",
      "Epoch 32/100\n",
      "7654/7654 [==============================] - 0s 26us/sample - loss: 28.1998\n",
      "Epoch 33/100\n",
      "7654/7654 [==============================] - 0s 26us/sample - loss: 27.0591\n",
      "Epoch 34/100\n",
      "7654/7654 [==============================] - 0s 27us/sample - loss: 26.6415\n",
      "Epoch 35/100\n",
      "7654/7654 [==============================] - 0s 26us/sample - loss: 26.4613\n",
      "Epoch 36/100\n",
      "7654/7654 [==============================] - 0s 26us/sample - loss: 26.9148\n",
      "Epoch 37/100\n",
      "7654/7654 [==============================] - 0s 27us/sample - loss: 27.2982\n",
      "Epoch 38/100\n",
      "7654/7654 [==============================] - 0s 27us/sample - loss: 26.4790\n",
      "Epoch 39/100\n",
      "7654/7654 [==============================] - 0s 26us/sample - loss: 26.6425\n",
      "Epoch 40/100\n",
      "7654/7654 [==============================] - 0s 25us/sample - loss: 26.5939\n",
      "Epoch 41/100\n",
      "7654/7654 [==============================] - 0s 26us/sample - loss: 27.6568\n",
      "Epoch 42/100\n",
      "7654/7654 [==============================] - 0s 26us/sample - loss: 27.4149\n",
      "Epoch 43/100\n",
      "7654/7654 [==============================] - 0s 27us/sample - loss: 27.2077\n",
      "Epoch 44/100\n",
      "7654/7654 [==============================] - 0s 27us/sample - loss: 26.5513\n",
      "Epoch 45/100\n",
      "7654/7654 [==============================] - 0s 26us/sample - loss: 27.2059\n",
      "Epoch 46/100\n",
      "7654/7654 [==============================] - 0s 26us/sample - loss: 27.0394\n",
      "Epoch 47/100\n",
      "7654/7654 [==============================] - 0s 26us/sample - loss: 26.7253\n",
      "Epoch 48/100\n",
      "7654/7654 [==============================] - 0s 25us/sample - loss: 26.8610\n",
      "Epoch 49/100\n",
      "7654/7654 [==============================] - 0s 27us/sample - loss: 26.3740\n",
      "Epoch 50/100\n",
      "7654/7654 [==============================] - 0s 26us/sample - loss: 26.1992\n",
      "Epoch 51/100\n",
      "7654/7654 [==============================] - 0s 26us/sample - loss: 26.7190\n",
      "Epoch 52/100\n",
      "7654/7654 [==============================] - 0s 26us/sample - loss: 26.8594\n",
      "Epoch 53/100\n",
      "7654/7654 [==============================] - 0s 26us/sample - loss: 27.0852\n",
      "Epoch 54/100\n",
      "7654/7654 [==============================] - 0s 25us/sample - loss: 27.0635\n",
      "Epoch 55/100\n",
      "7654/7654 [==============================] - 0s 25us/sample - loss: 26.7640\n",
      "Epoch 56/100\n",
      "7654/7654 [==============================] - 0s 26us/sample - loss: 27.1892\n",
      "Epoch 57/100\n",
      "7654/7654 [==============================] - 0s 26us/sample - loss: 26.9793\n",
      "Epoch 58/100\n",
      "7654/7654 [==============================] - 0s 27us/sample - loss: 26.5084\n",
      "Epoch 59/100\n",
      "7654/7654 [==============================] - 0s 27us/sample - loss: 26.5163\n",
      "Epoch 60/100\n",
      "7654/7654 [==============================] - 0s 26us/sample - loss: 27.2569\n",
      "Epoch 61/100\n",
      "7654/7654 [==============================] - 0s 27us/sample - loss: 26.5734\n",
      "Epoch 62/100\n",
      "7654/7654 [==============================] - 0s 27us/sample - loss: 26.5036\n",
      "Epoch 63/100\n",
      "7654/7654 [==============================] - 0s 26us/sample - loss: 27.4372\n",
      "Epoch 64/100\n",
      "7654/7654 [==============================] - 0s 26us/sample - loss: 26.7308\n",
      "Epoch 65/100\n",
      "7654/7654 [==============================] - 0s 26us/sample - loss: 27.0369\n",
      "Epoch 66/100\n",
      "7654/7654 [==============================] - 0s 26us/sample - loss: 27.1845\n",
      "Epoch 67/100\n",
      "7654/7654 [==============================] - 0s 26us/sample - loss: 27.6595\n",
      "Epoch 68/100\n",
      "7654/7654 [==============================] - 0s 26us/sample - loss: 26.7993\n",
      "Epoch 69/100\n",
      "7654/7654 [==============================] - 0s 26us/sample - loss: 26.6324\n",
      "Epoch 70/100\n",
      "7654/7654 [==============================] - 0s 27us/sample - loss: 26.7371\n",
      "Epoch 71/100\n",
      "7654/7654 [==============================] - 0s 27us/sample - loss: 26.8702\n",
      "Epoch 72/100\n",
      "7654/7654 [==============================] - 0s 26us/sample - loss: 26.8832\n",
      "Epoch 73/100\n",
      "7654/7654 [==============================] - 0s 26us/sample - loss: 26.2627\n",
      "Epoch 74/100\n",
      "7654/7654 [==============================] - 0s 27us/sample - loss: 26.5447\n",
      "Epoch 75/100\n",
      "7654/7654 [==============================] - 0s 27us/sample - loss: 26.2060\n",
      "Epoch 76/100\n",
      "7654/7654 [==============================] - 0s 26us/sample - loss: 27.0854\n",
      "Epoch 77/100\n",
      "7654/7654 [==============================] - 0s 26us/sample - loss: 26.4373\n",
      "Epoch 78/100\n",
      "7654/7654 [==============================] - 0s 25us/sample - loss: 26.5295\n",
      "Epoch 79/100\n",
      "7654/7654 [==============================] - 0s 26us/sample - loss: 26.5676\n",
      "Epoch 80/100\n",
      "7654/7654 [==============================] - 0s 26us/sample - loss: 27.1513\n",
      "Epoch 81/100\n",
      "7654/7654 [==============================] - 0s 26us/sample - loss: 27.2703\n",
      "Epoch 82/100\n",
      "7654/7654 [==============================] - 0s 26us/sample - loss: 26.3935\n",
      "Epoch 83/100\n",
      "7654/7654 [==============================] - 0s 26us/sample - loss: 26.8272\n",
      "Epoch 84/100\n",
      "7654/7654 [==============================] - 0s 27us/sample - loss: 26.3705\n",
      "Epoch 85/100\n",
      "7654/7654 [==============================] - 0s 26us/sample - loss: 26.6646\n",
      "Epoch 86/100\n",
      "7654/7654 [==============================] - 0s 26us/sample - loss: 27.5134\n",
      "Epoch 87/100\n",
      "7654/7654 [==============================] - 0s 26us/sample - loss: 26.8299\n",
      "Epoch 88/100\n",
      "7654/7654 [==============================] - 0s 26us/sample - loss: 27.2827\n",
      "Epoch 89/100\n",
      "7654/7654 [==============================] - 0s 27us/sample - loss: 26.2373\n",
      "Epoch 90/100\n",
      "7654/7654 [==============================] - 0s 26us/sample - loss: 27.0905\n",
      "Epoch 91/100\n",
      "7654/7654 [==============================] - 0s 26us/sample - loss: 27.4146\n",
      "Epoch 92/100\n"
     ]
    },
    {
     "name": "stdout",
     "output_type": "stream",
     "text": [
      "7654/7654 [==============================] - 0s 26us/sample - loss: 26.6913\n",
      "Epoch 93/100\n",
      "7654/7654 [==============================] - 0s 26us/sample - loss: 27.0221\n",
      "Epoch 94/100\n",
      "7654/7654 [==============================] - 0s 28us/sample - loss: 26.3180\n",
      "Epoch 95/100\n",
      "7654/7654 [==============================] - 0s 29us/sample - loss: 27.9516\n",
      "Epoch 96/100\n",
      "7654/7654 [==============================] - 0s 25us/sample - loss: 26.9203\n",
      "Epoch 97/100\n",
      "7654/7654 [==============================] - 0s 25us/sample - loss: 26.8377\n",
      "Epoch 98/100\n",
      "7654/7654 [==============================] - 0s 25us/sample - loss: 26.7152\n",
      "Epoch 99/100\n",
      "7654/7654 [==============================] - 0s 26us/sample - loss: 26.5347\n",
      "Epoch 100/100\n",
      "7654/7654 [==============================] - 0s 26us/sample - loss: 26.4749\n"
     ]
    },
    {
     "data": {
      "text/plain": [
       "<tensorflow.python.keras.callbacks.History at 0x7fb9d1cdfb10>"
      ]
     },
     "execution_count": 28,
     "metadata": {},
     "output_type": "execute_result"
    }
   ],
   "source": [
    "ann.fit(X_train,y_train,batch_size=32,epochs=100)"
   ]
  },
  {
   "cell_type": "code",
   "execution_count": 30,
   "metadata": {},
   "outputs": [
    {
     "data": {
      "text/plain": [
       "array([[430.04706],\n",
       "       [449.35852],\n",
       "       [444.6806 ],\n",
       "       ...,\n",
       "       [455.74094],\n",
       "       [448.85123],\n",
       "       [431.2024 ]], dtype=float32)"
      ]
     },
     "execution_count": 30,
     "metadata": {},
     "output_type": "execute_result"
    }
   ],
   "source": [
    "y_pred=ann.predict(X_test)\n",
    "y_pred"
   ]
  },
  {
   "cell_type": "code",
   "execution_count": 34,
   "metadata": {},
   "outputs": [],
   "source": [
    "from sklearn.metrics import mean_squared_error,r2_score"
   ]
  },
  {
   "cell_type": "code",
   "execution_count": 33,
   "metadata": {},
   "outputs": [
    {
     "name": "stdout",
     "output_type": "stream",
     "text": [
      "[[430.05 426.18]\n",
      " [449.36 451.1 ]\n",
      " [444.68 442.87]\n",
      " ...\n",
      " [455.74 454.2 ]\n",
      " [448.85 444.13]\n",
      " [431.2  436.58]]\n"
     ]
    }
   ],
   "source": [
    "np.set_printoptions(precision=2)\n",
    "print(np.concatenate((y_pred.reshape(len(y_pred),1),y_test.reshape(len(y_test),1)),1))"
   ]
  },
  {
   "cell_type": "code",
   "execution_count": 35,
   "metadata": {},
   "outputs": [
    {
     "name": "stdout",
     "output_type": "stream",
     "text": [
      "0.9111156672353806\n"
     ]
    }
   ],
   "source": [
    "print(r2_score(y_test,y_pred))"
   ]
  },
  {
   "cell_type": "code",
   "execution_count": 36,
   "metadata": {},
   "outputs": [
    {
     "name": "stdout",
     "output_type": "stream",
     "text": [
      "25.635835090528893\n"
     ]
    }
   ],
   "source": [
    "print(mean_squared_error(y_test,y_pred))"
   ]
  },
  {
   "cell_type": "code",
   "execution_count": null,
   "metadata": {},
   "outputs": [],
   "source": []
  }
 ],
 "metadata": {
  "kernelspec": {
   "display_name": "Python 3",
   "language": "python",
   "name": "python3"
  },
  "language_info": {
   "codemirror_mode": {
    "name": "ipython",
    "version": 3
   },
   "file_extension": ".py",
   "mimetype": "text/x-python",
   "name": "python",
   "nbconvert_exporter": "python",
   "pygments_lexer": "ipython3",
   "version": "3.7.10"
  }
 },
 "nbformat": 4,
 "nbformat_minor": 4
}
